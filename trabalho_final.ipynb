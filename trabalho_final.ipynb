{
 "cells": [
  {
   "cell_type": "code",
   "execution_count": 1,
   "metadata": {
    "executionInfo": {
     "elapsed": 5277,
     "status": "ok",
     "timestamp": 1619031010867,
     "user": {
      "displayName": "LEONARDO BATISTA LEITE DA SILVA",
      "photoUrl": "https://lh3.googleusercontent.com/a-/AOh14GhK0TnQU4haKaKqBaKTpz2LePe4oAHUs0b23Yaw=s64",
      "userId": "01884464177546587286"
     },
     "user_tz": 180
    },
    "id": "5urB56iXxFXv"
   },
   "outputs": [],
   "source": [
    "import numpy as np\n",
    "import pandas as pd\n",
    "import matplotlib.pyplot as plt\n",
    "%matplotlib inline\n",
    "import seaborn as sns\n",
    "\n",
    "from sklearn.model_selection import train_test_split\n",
    "\n",
    "import keras\n",
    "from keras.models import Model\n",
    "from keras.utils.np_utils import to_categorical\n",
    "from keras.layers import Dropout, Input, Dense, Flatten\n",
    "from keras.optimizers import Adam\n",
    "from sklearn.metrics import classification_report, confusion_matrix\n",
    "\n",
    "import tensorflow as tf\n",
    "import cv2 as cv\n",
    "import os \n",
    "import glob\n",
    "import datetime\n",
    "import time"
   ]
  },
  {
   "cell_type": "code",
   "execution_count": 2,
   "metadata": {
    "id": "kUiOEIEQxFX2"
   },
   "outputs": [],
   "source": [
    "#CARREGANDO PRÓPRIO DATASET PARA USO\n",
    "\n",
    "carcionoma_dir = glob.glob(os.path.join('C:/Users/leonardo/Downloads/PDI/carcinoma_in_situ/', '*'))\n",
    "light_dysplastic_dir = glob.glob(os.path.join('C:/Users/leonardo/Downloads/PDI/light_dysplastic/', '*'))\n",
    "moderate_dysplastic_dir = glob.glob(os.path.join('C:/Users/leonardo/Downloads/PDI/moderate_dysplastic/', '*'))\n",
    "normal_columnar_dir = glob.glob(os.path.join('C:/Users/leonardo/Downloads/PDI/normal_columnar/', '*'))\n",
    "normal_intermediate_dir = glob.glob(os.path.join('C:/Users/leonardo/Downloads/PDI/normal_intermediate/', '*'))\n",
    "normal_superficiel_dir = glob.glob(os.path.join('C:/Users/leonardo/Downloads/PDI/normal_superficiel/', '*'))\n",
    "severe_dysplastic_dir = glob.glob(os.path.join('C:/Users/leonardo/Downloads/PDI/severe_dysplastic/', '*'))\n",
    "\n",
    "x_path = carcionoma_dir + light_dysplastic_dir + moderate_dysplastic_dir + normal_columnar_dir + normal_intermediate_dir + normal_superficiel_dir + severe_dysplastic_dir\n",
    "\n",
    "x = []\n",
    "\n",
    "for f in x_path:\n",
    "    x.append(np.array(cv.resize(cv.imread(f), (32,32), interpolation = cv.INTER_AREA)))\n",
    "\n",
    "x = np.array(x)\n",
    "x = x/255"
   ]
  },
  {
   "cell_type": "code",
   "execution_count": 3,
   "metadata": {
    "id": "cWzYvKPcxFX3",
    "outputId": "1f3c6c7c-220e-4eee-9d3d-3475f2f4f1ae"
   },
   "outputs": [],
   "source": [
    "l_carcionoma = np.zeros(len(carcionoma_dir))\n",
    "l_light_dysplastic = np.ones(len(light_dysplastic_dir))\n",
    "l_moderate_dysplastic = 2*np.ones(len(moderate_dysplastic_dir))\n",
    "l_normal_columnar = 3*np.ones(len(normal_columnar_dir))\n",
    "l_normal_intermediate = 4*np.ones(len(normal_intermediate_dir))\n",
    "l_normal_superficiel = 5*np.ones(len(normal_superficiel_dir))\n",
    "l_severe_dysplastic = 6*np.ones(len(severe_dysplastic_dir))\n",
    "\n",
    "y = np.concatenate((l_carcionoma, l_light_dysplastic, l_moderate_dysplastic, l_normal_columnar, l_normal_intermediate, l_normal_superficiel, l_severe_dysplastic))\n",
    "y = to_categorical(y, 7)"
   ]
  },
  {
   "cell_type": "code",
   "execution_count": 4,
   "metadata": {
    "id": "8AtQW3pvxFX4"
   },
   "outputs": [],
   "source": [
    "#TREINAMENTO\n",
    "x_train, x_val, y_train, y_val = train_test_split(x, y, test_size = 0.2, random_state=42)"
   ]
  },
  {
   "cell_type": "code",
   "execution_count": 10,
   "metadata": {
    "id": "sHohFDgDxFX5"
   },
   "outputs": [],
   "source": [
    "#carrega o modelo da VGG16 com os pesos aprendidos no treino da ImageNet sem a camada densa (include_top=False)\n",
    "VGG = tf.keras.applications.VGG16(input_shape=(32,32,3), include_top = False, weights= 'imagenet')\n",
    "\n",
    "#congelando os neuronios já treinados na ImageNet, queremos retreinar somente a ultima camada\n",
    "for layer in VGG.layers:\n",
    "  layer.trainable = False\n",
    "\n",
    "model = keras.Sequential([\n",
    "    VGG,\n",
    "    Flatten(),\n",
    "    #adiciona uma camada densa com 256 neuronios com funcao de ativacao relu. \n",
    "    Dense(256,activation='relu'),\n",
    "    #adiciona uma camada densa com 256 neuronios com funcao de ativacao relu. \n",
    "    Dense(256,activation='relu'),\n",
    "    #adiciona os neurônios que devem ser utilizados, nesse caso foram desligados 20% dos neuronios\n",
    "    Dropout(0.5),\n",
    "    #adiciona uma camada densa com 7 neuronios (sete classes) com funcao de ativacao softmax (distribuicao de probabilidade)\n",
    "    Dense(7, activation='softmax')    \n",
    "])\n",
    "\n",
    "#definindo modelo final\n",
    "learning = Adam(lr=0.001)\n",
    "model.compile(optimizer=learning, loss='categorical_crossentropy', metrics=['accuracy'])"
   ]
  },
  {
   "cell_type": "code",
   "execution_count": 11,
   "metadata": {
    "id": "S6vQSTw0xFX5"
   },
   "outputs": [
    {
     "name": "stdout",
     "output_type": "stream",
     "text": [
      "Epoch 1/50\n",
      "46/46 [==============================] - 6s 116ms/step - loss: 1.8640 - accuracy: 0.2503 - val_loss: 1.6499 - val_accuracy: 0.3270\n",
      "Epoch 2/50\n",
      "46/46 [==============================] - 7s 144ms/step - loss: 1.5671 - accuracy: 0.3597 - val_loss: 1.4716 - val_accuracy: 0.4360\n",
      "Epoch 3/50\n",
      "46/46 [==============================] - 9s 198ms/step - loss: 1.4169 - accuracy: 0.4239 - val_loss: 1.3846 - val_accuracy: 0.4305\n",
      "Epoch 4/50\n",
      "46/46 [==============================] - 8s 185ms/step - loss: 1.2873 - accuracy: 0.4693 - val_loss: 1.3787 - val_accuracy: 0.4278\n",
      "Epoch 5/50\n",
      "46/46 [==============================] - 9s 188ms/step - loss: 1.2593 - accuracy: 0.5077 - val_loss: 1.3093 - val_accuracy: 0.4687\n",
      "Epoch 6/50\n",
      "46/46 [==============================] - 9s 192ms/step - loss: 1.1897 - accuracy: 0.5241 - val_loss: 1.3243 - val_accuracy: 0.4523\n",
      "Epoch 7/50\n",
      "46/46 [==============================] - 9s 189ms/step - loss: 1.1499 - accuracy: 0.5355 - val_loss: 1.2930 - val_accuracy: 0.4741\n",
      "Epoch 8/50\n",
      "46/46 [==============================] - 9s 193ms/step - loss: 1.0947 - accuracy: 0.5526 - val_loss: 1.2978 - val_accuracy: 0.4714\n",
      "Epoch 9/50\n",
      "46/46 [==============================] - 9s 199ms/step - loss: 1.0740 - accuracy: 0.5571 - val_loss: 1.2814 - val_accuracy: 0.4768\n",
      "Epoch 10/50\n",
      "46/46 [==============================] - 9s 190ms/step - loss: 1.0133 - accuracy: 0.5806 - val_loss: 1.2904 - val_accuracy: 0.4578\n",
      "Epoch 11/50\n",
      "46/46 [==============================] - 8s 184ms/step - loss: 0.9780 - accuracy: 0.6057 - val_loss: 1.3107 - val_accuracy: 0.4714\n",
      "Epoch 12/50\n",
      "46/46 [==============================] - 8s 181ms/step - loss: 0.9096 - accuracy: 0.6234 - val_loss: 1.2672 - val_accuracy: 0.4850\n",
      "Epoch 13/50\n",
      "46/46 [==============================] - 8s 184ms/step - loss: 0.9338 - accuracy: 0.6275 - val_loss: 1.3841 - val_accuracy: 0.4414\n",
      "Epoch 14/50\n",
      "46/46 [==============================] - 9s 196ms/step - loss: 0.8443 - accuracy: 0.6710 - val_loss: 1.3131 - val_accuracy: 0.5014\n",
      "Epoch 15/50\n",
      "46/46 [==============================] - 9s 188ms/step - loss: 0.8389 - accuracy: 0.6770 - val_loss: 1.3417 - val_accuracy: 0.4768\n",
      "Epoch 16/50\n",
      "46/46 [==============================] - 11s 238ms/step - loss: 0.7900 - accuracy: 0.6714 - val_loss: 1.3775 - val_accuracy: 0.4578\n",
      "Epoch 17/50\n",
      "46/46 [==============================] - 11s 250ms/step - loss: 0.7716 - accuracy: 0.6968 - val_loss: 1.3688 - val_accuracy: 0.4496\n",
      "Epoch 18/50\n",
      "46/46 [==============================] - 8s 179ms/step - loss: 0.7074 - accuracy: 0.7243 - val_loss: 1.4021 - val_accuracy: 0.4523\n",
      "Epoch 19/50\n",
      "46/46 [==============================] - 8s 182ms/step - loss: 0.6847 - accuracy: 0.7315 - val_loss: 1.4514 - val_accuracy: 0.4659\n",
      "Epoch 20/50\n",
      "46/46 [==============================] - 9s 205ms/step - loss: 0.6669 - accuracy: 0.7482 - val_loss: 1.4760 - val_accuracy: 0.4659\n",
      "Epoch 21/50\n",
      "46/46 [==============================] - 9s 197ms/step - loss: 0.6349 - accuracy: 0.7590 - val_loss: 1.5409 - val_accuracy: 0.4523\n",
      "Epoch 22/50\n",
      "46/46 [==============================] - 9s 203ms/step - loss: 0.5673 - accuracy: 0.7925 - val_loss: 1.5564 - val_accuracy: 0.4823\n",
      "Epoch 23/50\n",
      "46/46 [==============================] - 9s 186ms/step - loss: 0.5753 - accuracy: 0.7943 - val_loss: 1.6618 - val_accuracy: 0.4332\n",
      "Epoch 24/50\n",
      "46/46 [==============================] - 9s 186ms/step - loss: 0.5150 - accuracy: 0.8033 - val_loss: 1.6721 - val_accuracy: 0.4441\n",
      "Epoch 25/50\n",
      "46/46 [==============================] - 9s 201ms/step - loss: 0.5224 - accuracy: 0.8119 - val_loss: 1.6825 - val_accuracy: 0.4223\n",
      "Epoch 26/50\n",
      "46/46 [==============================] - 10s 212ms/step - loss: 0.4544 - accuracy: 0.8293 - val_loss: 1.7449 - val_accuracy: 0.4441\n",
      "Epoch 27/50\n",
      "46/46 [==============================] - 9s 188ms/step - loss: 0.4716 - accuracy: 0.8236 - val_loss: 1.7659 - val_accuracy: 0.4687\n",
      "Epoch 28/50\n",
      "46/46 [==============================] - 9s 186ms/step - loss: 0.4123 - accuracy: 0.8573 - val_loss: 2.0155 - val_accuracy: 0.4659\n",
      "Epoch 29/50\n",
      "46/46 [==============================] - 8s 184ms/step - loss: 0.3997 - accuracy: 0.8548 - val_loss: 1.9005 - val_accuracy: 0.4496\n",
      "Epoch 30/50\n",
      "46/46 [==============================] - 8s 177ms/step - loss: 0.3692 - accuracy: 0.8794 - val_loss: 2.0837 - val_accuracy: 0.4387\n",
      "Epoch 31/50\n",
      "46/46 [==============================] - 8s 182ms/step - loss: 0.3701 - accuracy: 0.8717 - val_loss: 2.0797 - val_accuracy: 0.4578\n",
      "Epoch 32/50\n",
      "46/46 [==============================] - 8s 181ms/step - loss: 0.3074 - accuracy: 0.8997 - val_loss: 2.1500 - val_accuracy: 0.4578\n",
      "Epoch 33/50\n",
      "46/46 [==============================] - 9s 187ms/step - loss: 0.2835 - accuracy: 0.9038 - val_loss: 2.1709 - val_accuracy: 0.4305\n",
      "Epoch 34/50\n",
      "46/46 [==============================] - 12s 270ms/step - loss: 0.3497 - accuracy: 0.8883 - val_loss: 2.4565 - val_accuracy: 0.4305\n",
      "Epoch 35/50\n",
      "46/46 [==============================] - 8s 180ms/step - loss: 0.2633 - accuracy: 0.9148 - val_loss: 2.2728 - val_accuracy: 0.4196\n",
      "Epoch 36/50\n",
      "46/46 [==============================] - 8s 175ms/step - loss: 0.2670 - accuracy: 0.9097 - val_loss: 2.3373 - val_accuracy: 0.4469\n",
      "Epoch 37/50\n",
      "46/46 [==============================] - 8s 178ms/step - loss: 0.2221 - accuracy: 0.9230 - val_loss: 2.2328 - val_accuracy: 0.4768\n",
      "Epoch 38/50\n",
      "46/46 [==============================] - 8s 185ms/step - loss: 0.2018 - accuracy: 0.9423 - val_loss: 2.6323 - val_accuracy: 0.4469\n",
      "Epoch 39/50\n",
      "46/46 [==============================] - 8s 179ms/step - loss: 0.1855 - accuracy: 0.9417 - val_loss: 2.6392 - val_accuracy: 0.4196\n",
      "Epoch 40/50\n",
      "46/46 [==============================] - 8s 183ms/step - loss: 0.2155 - accuracy: 0.9253 - val_loss: 2.6318 - val_accuracy: 0.4414\n",
      "Epoch 41/50\n",
      "46/46 [==============================] - 8s 181ms/step - loss: 0.1736 - accuracy: 0.9424 - val_loss: 2.5276 - val_accuracy: 0.4496\n",
      "Epoch 42/50\n",
      "46/46 [==============================] - 9s 188ms/step - loss: 0.1717 - accuracy: 0.9469 - val_loss: 2.7550 - val_accuracy: 0.4387\n",
      "Epoch 43/50\n",
      "46/46 [==============================] - 11s 236ms/step - loss: 0.1830 - accuracy: 0.9479 - val_loss: 2.7505 - val_accuracy: 0.4578\n",
      "Epoch 44/50\n",
      "46/46 [==============================] - 12s 252ms/step - loss: 0.1115 - accuracy: 0.9607 - val_loss: 2.8396 - val_accuracy: 0.4223\n",
      "Epoch 45/50\n",
      "46/46 [==============================] - 12s 256ms/step - loss: 0.1271 - accuracy: 0.9599 - val_loss: 2.6262 - val_accuracy: 0.4523\n",
      "Epoch 46/50\n",
      "46/46 [==============================] - 13s 290ms/step - loss: 0.1191 - accuracy: 0.9673 - val_loss: 2.8899 - val_accuracy: 0.4441\n",
      "Epoch 47/50\n",
      "46/46 [==============================] - 13s 286ms/step - loss: 0.1230 - accuracy: 0.9595 - val_loss: 2.9161 - val_accuracy: 0.4496\n",
      "Epoch 48/50\n",
      "46/46 [==============================] - 11s 236ms/step - loss: 0.1331 - accuracy: 0.9561 - val_loss: 2.9502 - val_accuracy: 0.4578\n",
      "Epoch 49/50\n",
      "46/46 [==============================] - 10s 216ms/step - loss: 0.1352 - accuracy: 0.9574 - val_loss: 3.0276 - val_accuracy: 0.4441\n",
      "Epoch 50/50\n",
      "46/46 [==============================] - 10s 219ms/step - loss: 0.0865 - accuracy: 0.9734 - val_loss: 3.0358 - val_accuracy: 0.4496\n"
     ]
    }
   ],
   "source": [
    "#treinando e testando o modelo\n",
    "inicio = time.time()\n",
    "hist = model.fit(x_train, \n",
    "                 y_train,\n",
    "                 batch_size = 32,\n",
    "                 validation_data = (x_val, y_val),\n",
    "                 epochs = 50,\n",
    "                 initial_epoch = 0)\n",
    "fim = time.time()"
   ]
  },
  {
   "cell_type": "code",
   "execution_count": 12,
   "metadata": {
    "id": "pEzsGCOgxFX6"
   },
   "outputs": [
    {
     "name": "stdout",
     "output_type": "stream",
     "text": [
      "Train: 0.994, Test: 0.450\n",
      "Tempo de treino e teste: 0:07:36.918544\n"
     ]
    }
   ],
   "source": [
    "#Média do teste e treino. Também mostra o tempo.\n",
    "tmp = fim-inicio\n",
    "loss_train, train_acc = model.evaluate(x_train, y_train, verbose=0)\n",
    "loss_test, test_acc = model.evaluate(x_val, y_val, verbose=0)\n",
    "print('Train: %.3f, Test: %.3f' % (train_acc, test_acc))\n",
    "print('Tempo de treino e teste: ' + str(datetime.timedelta(seconds=tmp)))"
   ]
  },
  {
   "cell_type": "code",
   "execution_count": 13,
   "metadata": {},
   "outputs": [
    {
     "data": {
      "image/png": "[encoded data removed]",
      "text/plain": [
       "<Figure size 432x288 with 1 Axes>"
      ]
     },
     "metadata": {
      "needs_background": "light"
     },
     "output_type": "display_data"
    },
    {
     "data": {
      "image/png": "[encoded data removed]",
      "text/plain": [
       "<Figure size 432x288 with 1 Axes>"
      ]
     },
     "metadata": {
      "needs_background": "light"
     },
     "output_type": "display_data"
    }
   ],
   "source": [
    "#PLOTANDO GRAFICOS LOSS E ACCURACY\n",
    "plt.plot(hist.history['loss'])\n",
    "plt.plot(hist.history['val_loss'])\n",
    "plt.title('Model Loss')\n",
    "plt.ylabel('Loss')\n",
    "plt.xlabel('Epochs')\n",
    "plt.legend(['train', 'test'])\n",
    "plt.show()\n",
    "\n",
    "plt.plot(hist.history['accuracy'])\n",
    "plt.plot(hist.history['val_accuracy'])\n",
    "plt.title('Model Accuracy')\n",
    "plt.ylabel('Accuracy')\n",
    "plt.xlabel('Epochs')\n",
    "plt.legend(['train', 'test'])\n",
    "plt.show()"
   ]
  },
  {
   "cell_type": "code",
   "execution_count": 14,
   "metadata": {},
   "outputs": [
    {
     "name": "stdout",
     "output_type": "stream",
     "text": [
      "----------------CLASSIFICATION--------------\n",
      "              precision    recall  f1-score   support\n",
      "\n",
      "           0       0.37      0.64      0.47        53\n",
      "           1       0.47      0.52      0.49        79\n",
      "           2       0.41      0.17      0.24        64\n",
      "           3       0.22      0.21      0.21        34\n",
      "           4       0.48      0.67      0.56        24\n",
      "           5       0.84      0.62      0.71        34\n",
      "           6       0.45      0.41      0.43        79\n",
      "\n",
      "    accuracy                           0.44       367\n",
      "   macro avg       0.46      0.46      0.45       367\n",
      "weighted avg       0.45      0.44      0.43       367\n",
      "\n",
      "----------------Matrix de Confusão--------------\n"
     ]
    },
    {
     "data": {
      "text/plain": [
       "<AxesSubplot:>"
      ]
     },
     "execution_count": 14,
     "metadata": {},
     "output_type": "execute_result"
    },
    {
     "data": {
      "image/png": "[encoded data removed]",
      "text/plain": [
       "<Figure size 720x504 with 2 Axes>"
      ]
     },
     "metadata": {
      "needs_background": "light"
     },
     "output_type": "display_data"
    }
   ],
   "source": [
    "#PLOTANDO MATRIX DE CONFUSÃO\n",
    "predictions = model.predict(x_val)\n",
    "y_pred = (predictions > 0.5)\n",
    "classification = classification_report(y_val.argmax(axis=1), y_pred.argmax(axis=1))\n",
    "print('----------------CLASSIFICATION--------------')\n",
    "print(classification)\n",
    "print('----------------Matrix de Confusão--------------')\n",
    "matrix = confusion_matrix(y_val.argmax(axis=1), y_pred.argmax(axis=1))\n",
    "df_cm = pd.DataFrame(matrix, index = [i for i in range(7)],\n",
    "                  columns = [i for i in range(7)])\n",
    "plt.figure(figsize = (10,7))\n",
    "sns.heatmap(df_cm, annot=True, linewidths=5.0)"
   ]
  }
 ],
 "metadata": {
  "colab": {
   "name": "Untitled-checkpoint.ipynb",
   "provenance": []
  },
  "kernelspec": {
   "display_name": "Python 3",
   "language": "python",
   "name": "python3"
  },
  "language_info": {
   "codemirror_mode": {
    "name": "ipython",
    "version": 3
   },
   "file_extension": ".py",
   "mimetype": "text/x-python",
   "name": "python",
   "nbconvert_exporter": "python",
   "pygments_lexer": "ipython3",
   "version": "3.8.5"
  }
 },
 "nbformat": 4,
 "nbformat_minor": 4
}
